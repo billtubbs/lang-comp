{
 "cells": [
  {
   "cell_type": "markdown",
   "metadata": {},
   "source": [
    "# Object-oriented programming in Julia\n",
    "\n",
    "Trying out this demonstration of OOP like programming in Julia:\n",
    "\n",
    "- https://towardsdatascience.com/how-to-turn-julia-into-python-6ab13dafb84"
   ]
  },
  {
   "cell_type": "markdown",
   "metadata": {},
   "source": [
    "## A structure with an inner constructor function"
   ]
  },
  {
   "cell_type": "code",
   "execution_count": 1,
   "metadata": {},
   "outputs": [],
   "source": [
    "using Lathe.stats: mean, std\n",
    "\n",
    "struct NormalDistribution\n",
    "    mu::Float64\n",
    "    sigma::Float64\n",
    "    function NormalDistribution(x::Array)\n",
    "        return new(mean(x), std(x))\n",
    "    end\n",
    "end"
   ]
  },
  {
   "cell_type": "code",
   "execution_count": 2,
   "metadata": {},
   "outputs": [
    {
     "data": {
      "text/plain": [
       "NormalDistribution(12.5, 3.5355339059327378)"
      ]
     },
     "execution_count": 2,
     "metadata": {},
     "output_type": "execute_result"
    }
   ],
   "source": [
    "x = [5, 10, 15, 20]\n",
    "norm = NormalDistribution(x)"
   ]
  },
  {
   "cell_type": "markdown",
   "metadata": {},
   "source": [
    "## OOP like structure\n",
    "\n",
    "**Note: You have to restart the Kernel if you want to run this cell after already running the above cells.**"
   ]
  },
  {
   "cell_type": "code",
   "execution_count": 2,
   "metadata": {},
   "outputs": [
    {
     "data": {
      "text/plain": [
       "4-element Array{Complex{Float64},1}:\n",
       " -2.1213203435596424 + 0.0im\n",
       " -0.7071067811865475 + 0.0im\n",
       "  0.7071067811865475 - 0.0im\n",
       "  2.1213203435596424 - 0.0im"
      ]
     },
     "execution_count": 2,
     "metadata": {},
     "output_type": "execute_result"
    }
   ],
   "source": [
    "using Lathe.stats: mean, std\n",
    "\n",
    "struct NormalDistribution{P}\n",
    "    mu::Float64\n",
    "    sigma::Float64\n",
    "    pdf::P\n",
    "    function NormalDistribution(x::Array)\n",
    "        μ = mean(x)\n",
    "        σ = std(x)\n",
    "        pdf(xt::Array) = [i = (i-μ) / σ for i in xt]\n",
    "        return new{typeof(pdf)}(mean(x), std(x), pdf)\n",
    "    end\n",
    "end\n",
    "\n",
    "\n",
    "x = [5, 10, 15, 20]\n",
    "dist = NormalDistribution(x)\n",
    "scaled_data = dist.pdf(x)\n",
    "scaled_data"
   ]
  },
  {
   "cell_type": "code",
   "execution_count": null,
   "metadata": {},
   "outputs": [],
   "source": []
  },
  {
   "cell_type": "code",
   "execution_count": null,
   "metadata": {},
   "outputs": [],
   "source": []
  },
  {
   "cell_type": "code",
   "execution_count": null,
   "metadata": {},
   "outputs": [],
   "source": []
  }
 ],
 "metadata": {
  "kernelspec": {
   "display_name": "Julia 1.1.1",
   "language": "julia",
   "name": "julia-1.1"
  },
  "language_info": {
   "file_extension": ".jl",
   "mimetype": "application/julia",
   "name": "julia",
   "version": "1.1.1"
  }
 },
 "nbformat": 4,
 "nbformat_minor": 4
}
