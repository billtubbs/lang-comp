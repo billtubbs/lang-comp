{
 "cells": [
  {
   "cell_type": "markdown",
   "metadata": {},
   "source": [
    "# Julia Sympy Package Demo"
   ]
  },
  {
   "cell_type": "code",
   "execution_count": 5,
   "metadata": {},
   "outputs": [
    {
     "name": "stdout",
     "output_type": "stream",
     "text": [
      "\u001b[32m\u001b[1m Resolving\u001b[22m\u001b[39m package versions...\n"
     ]
    },
    {
     "ename": "Pkg.Types.ResolverError",
     "evalue": "Unsatisfiable requirements detected for package RecipesBase [3cdcf5f2]:\n RecipesBase [3cdcf5f2] log:\n ├─possible versions are: [0.4.0, 0.5.0, 0.6.0, 0.7.0, 0.8.0, 1.0.0-1.0.2, 1.1.0] or uninstalled\n ├─restricted by compatibility requirements with Plots [91a5bcdd] to versions: 0.8.0\n │ └─Plots [91a5bcdd] log:\n │   ├─possible versions are: [0.12.1-0.12.4, 0.13.0-0.13.1, 0.14.0-0.14.2, 0.15.0-0.15.1, 0.16.0, 0.17.0-0.17.4, 0.18.0, 0.19.0-0.19.3, 0.20.0-0.20.6, 0.21.0, 0.22.0-0.22.5, 0.23.0-0.23.2, 0.24.0, 0.25.0-0.25.3, 0.26.0-0.26.3, 0.27.0-0.27.1, 0.28.0-0.28.4, 0.29.0-0.29.9, 1.0.0-1.0.14, 1.1.0-1.1.4, 1.2.0-1.2.6, 1.3.0-1.3.7, 1.4.0-1.4.4, 1.5.0-1.5.9, 1.6.0-1.6.12, 1.7.0-1.7.3] or uninstalled\n │   └─restricted to versions 0.29.9 by an explicit requirement, leaving only versions 0.29.9\n └─restricted by compatibility requirements with SymPy [24249f21] to versions: [0.4.0, 0.5.0, 0.6.0, 0.7.0, 1.0.0-1.0.2, 1.1.0] — no versions left\n   └─SymPy [24249f21] log:\n     ├─possible versions are: [0.7.0, 0.8.0-0.8.4, 0.9.0, 1.0.0-1.0.31] or uninstalled\n     └─restricted to versions * by an explicit requirement, leaving only versions [0.7.0, 0.8.0-0.8.4, 0.9.0, 1.0.0-1.0.31]",
     "output_type": "error",
     "traceback": [
      "Unsatisfiable requirements detected for package RecipesBase [3cdcf5f2]:\n RecipesBase [3cdcf5f2] log:\n ├─possible versions are: [0.4.0, 0.5.0, 0.6.0, 0.7.0, 0.8.0, 1.0.0-1.0.2, 1.1.0] or uninstalled\n ├─restricted by compatibility requirements with Plots [91a5bcdd] to versions: 0.8.0\n │ └─Plots [91a5bcdd] log:\n │   ├─possible versions are: [0.12.1-0.12.4, 0.13.0-0.13.1, 0.14.0-0.14.2, 0.15.0-0.15.1, 0.16.0, 0.17.0-0.17.4, 0.18.0, 0.19.0-0.19.3, 0.20.0-0.20.6, 0.21.0, 0.22.0-0.22.5, 0.23.0-0.23.2, 0.24.0, 0.25.0-0.25.3, 0.26.0-0.26.3, 0.27.0-0.27.1, 0.28.0-0.28.4, 0.29.0-0.29.9, 1.0.0-1.0.14, 1.1.0-1.1.4, 1.2.0-1.2.6, 1.3.0-1.3.7, 1.4.0-1.4.4, 1.5.0-1.5.9, 1.6.0-1.6.12, 1.7.0-1.7.3] or uninstalled\n │   └─restricted to versions 0.29.9 by an explicit requirement, leaving only versions 0.29.9\n └─restricted by compatibility requirements with SymPy [24249f21] to versions: [0.4.0, 0.5.0, 0.6.0, 0.7.0, 1.0.0-1.0.2, 1.1.0] — no versions left\n   └─SymPy [24249f21] log:\n     ├─possible versions are: [0.7.0, 0.8.0-0.8.4, 0.9.0, 1.0.0-1.0.31] or uninstalled\n     └─restricted to versions * by an explicit requirement, leaving only versions [0.7.0, 0.8.0-0.8.4, 0.9.0, 1.0.0-1.0.31]",
      "",
      "Stacktrace:",
      " [1] #propagate_constraints!#61(::Bool, ::Function, ::Pkg.GraphType.Graph, ::Set{Int64}) at /usr/local/miniconda/conda-bld/julia_1588003724459/work/usr/share/julia/stdlib/v1.1/Pkg/src/GraphType.jl:1007",
      " [2] propagate_constraints! at /usr/local/miniconda/conda-bld/julia_1588003724459/work/usr/share/julia/stdlib/v1.1/Pkg/src/GraphType.jl:948 [inlined]",
      " [3] #simplify_graph!#121(::Bool, ::Function, ::Pkg.GraphType.Graph, ::Set{Int64}) at /usr/local/miniconda/conda-bld/julia_1588003724459/work/usr/share/julia/stdlib/v1.1/Pkg/src/GraphType.jl:1462",
      " [4] simplify_graph! at /usr/local/miniconda/conda-bld/julia_1588003724459/work/usr/share/julia/stdlib/v1.1/Pkg/src/GraphType.jl:1462 [inlined] (repeats 2 times)",
      " [5] resolve_versions!(::Pkg.Types.Context, ::Array{Pkg.Types.PackageSpec,1}, ::Nothing) at /usr/local/miniconda/conda-bld/julia_1588003724459/work/usr/share/julia/stdlib/v1.1/Pkg/src/Operations.jl:371",
      " [6] resolve_versions! at /usr/local/miniconda/conda-bld/julia_1588003724459/work/usr/share/julia/stdlib/v1.1/Pkg/src/Operations.jl:315 [inlined]",
      " [7] #add_or_develop#63(::Array{Base.UUID,1}, ::Symbol, ::Function, ::Pkg.Types.Context, ::Array{Pkg.Types.PackageSpec,1}) at /usr/local/miniconda/conda-bld/julia_1588003724459/work/usr/share/julia/stdlib/v1.1/Pkg/src/Operations.jl:1172",
      " [8] #add_or_develop at ./none:0 [inlined]",
      " [9] #add_or_develop#17(::Symbol, ::Bool, ::Base.Iterators.Pairs{Union{},Union{},Tuple{},NamedTuple{(),Tuple{}}}, ::Function, ::Pkg.Types.Context, ::Array{Pkg.Types.PackageSpec,1}) at /usr/local/miniconda/conda-bld/julia_1588003724459/work/usr/share/julia/stdlib/v1.1/Pkg/src/API.jl:59",
      " [10] #add_or_develop at ./none:0 [inlined]",
      " [11] #add_or_develop#16 at /usr/local/miniconda/conda-bld/julia_1588003724459/work/usr/share/julia/stdlib/v1.1/Pkg/src/API.jl:36 [inlined]",
      " [12] #add_or_develop at ./none:0 [inlined]",
      " [13] #add_or_develop#13 at /usr/local/miniconda/conda-bld/julia_1588003724459/work/usr/share/julia/stdlib/v1.1/Pkg/src/API.jl:34 [inlined]",
      " [14] #add_or_develop at ./none:0 [inlined]",
      " [15] #add_or_develop#12(::Base.Iterators.Pairs{Symbol,Symbol,Tuple{Symbol},NamedTuple{(:mode,),Tuple{Symbol}}}, ::Function, ::String) at /usr/local/miniconda/conda-bld/julia_1588003724459/work/usr/share/julia/stdlib/v1.1/Pkg/src/API.jl:33",
      " [16] #add_or_develop at ./none:0 [inlined]",
      " [17] #add#22 at /usr/local/miniconda/conda-bld/julia_1588003724459/work/usr/share/julia/stdlib/v1.1/Pkg/src/API.jl:64 [inlined]",
      " [18] add(::String) at /usr/local/miniconda/conda-bld/julia_1588003724459/work/usr/share/julia/stdlib/v1.1/Pkg/src/API.jl:64",
      " [19] top-level scope at In[5]:2"
     ]
    }
   ],
   "source": [
    "using Pkg\n",
    "Pkg.add(\"SymPy\")"
   ]
  },
  {
   "cell_type": "code",
   "execution_count": 6,
   "metadata": {},
   "outputs": [
    {
     "ename": "ArgumentError",
     "evalue": "ArgumentError: Package SymPy not found in current path:\n- Run `import Pkg; Pkg.add(\"SymPy\")` to install the SymPy package.\n",
     "output_type": "error",
     "traceback": [
      "ArgumentError: Package SymPy not found in current path:\n- Run `import Pkg; Pkg.add(\"SymPy\")` to install the SymPy package.\n",
      "",
      "Stacktrace:",
      " [1] require(::Module, ::Symbol) at ./loading.jl:823",
      " [2] top-level scope at In[6]:1"
     ]
    }
   ],
   "source": [
    "using SymPy"
   ]
  },
  {
   "cell_type": "code",
   "execution_count": 3,
   "metadata": {},
   "outputs": [
    {
     "ename": "LoadError",
     "evalue": "UndefVarError: @vars not defined",
     "output_type": "error",
     "traceback": [
      "UndefVarError: @vars not defined",
      ""
     ]
    }
   ],
   "source": [
    "@vars x, y"
   ]
  }
 ],
 "metadata": {
  "kernelspec": {
   "display_name": "Julia 1.1.1",
   "language": "julia",
   "name": "julia-1.1"
  },
  "language_info": {
   "file_extension": ".jl",
   "mimetype": "application/julia",
   "name": "julia",
   "version": "1.1.1"
  }
 },
 "nbformat": 4,
 "nbformat_minor": 4
}
