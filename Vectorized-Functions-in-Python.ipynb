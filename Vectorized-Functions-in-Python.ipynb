{
 "cells": [
  {
   "cell_type": "markdown",
   "metadata": {},
   "source": [
    "# Vectorized Functions in Python"
   ]
  },
  {
   "cell_type": "code",
   "execution_count": 17,
   "metadata": {},
   "outputs": [
    {
     "data": {
      "text/plain": [
       "'3.6.10'"
      ]
     },
     "execution_count": 17,
     "metadata": {},
     "output_type": "execute_result"
    }
   ],
   "source": [
    "import numpy as np\n",
    "from platform import python_version\n",
    "python_version()"
   ]
  },
  {
   "cell_type": "code",
   "execution_count": 18,
   "metadata": {},
   "outputs": [],
   "source": [
    "def lorenz(y, sigma, beta, rho):\n",
    "    \"\"\"The Lorenz ordinary differential equations.\n",
    "    \n",
    "    Arguments:\n",
    "        y (array): Array of y values shape (..., 3).\n",
    "        sigma (float): Lorenz parameter.\n",
    "        beta (float): Lorenz parameter.\n",
    "        rho (float): Lorenz parameter.\n",
    "    \n",
    "    Returns:\n",
    "        dydt (tuple): Derivatives of y (dy/dt).\n",
    "    \"\"\"\n",
    "    return (\n",
    "        sigma * (y[1] - y[0]), \n",
    "        y[0] * (rho - y[2]) - y[1], \n",
    "        y[0] * y[1] - beta * y[2]\n",
    "    )\n",
    "\n",
    "# Lorenz system parameters\n",
    "beta = 8 / 3\n",
    "sigma = 10\n",
    "rho = 28"
   ]
  },
  {
   "cell_type": "code",
   "execution_count": 19,
   "metadata": {},
   "outputs": [],
   "source": [
    "# Test1 - Single function call\n",
    "y0 = (-8, 8, 27)\n",
    "assert lorenz(y0, sigma, beta, rho) == (160, -16, -136)"
   ]
  },
  {
   "cell_type": "code",
   "execution_count": 20,
   "metadata": {},
   "outputs": [],
   "source": [
    "# Test 2 - Single function calls with for loop\n",
    "def make_function_calls(f, y, n, *args, **kwargs):\n",
    "    dy = np.empty_like(y)\n",
    "    for i in range(n):\n",
    "        dy[:, i] = f(y[:, i], *args, **kwargs)\n",
    "    return dy\n",
    "\n",
    "y = np.repeat(np.array((-8, 8, 27)).reshape(-1,1), 10, axis=1)\n",
    "dy = make_function_calls(lorenz, y, 10, sigma=sigma, beta=beta, rho=rho)\n",
    "assert dy.shape == y.shape\n",
    "assert np.array_equiv(dy.T, (160, -16, -136))"
   ]
  },
  {
   "cell_type": "code",
   "execution_count": 21,
   "metadata": {},
   "outputs": [],
   "source": [
    "# Test 3 - vectorized function call\n",
    "y = np.repeat(np.array((-8, 8, 27)).reshape(-1,1), 10, axis=1)\n",
    "dy = lorenz(y, sigma, beta, rho)\n",
    "dy = np.vstack(dy)\n",
    "assert dy.shape == y.shape\n",
    "assert np.array_equiv(dy.T, (160, -16, -136))"
   ]
  },
  {
   "cell_type": "markdown",
   "metadata": {},
   "source": [
    "## Speed tests"
   ]
  },
  {
   "cell_type": "code",
   "execution_count": 22,
   "metadata": {},
   "outputs": [],
   "source": [
    "n = 10000\n",
    "# Use n random y vectors\n",
    "y = np.random.randn(3, n)"
   ]
  },
  {
   "cell_type": "code",
   "execution_count": 23,
   "metadata": {},
   "outputs": [
    {
     "name": "stdout",
     "output_type": "stream",
     "text": [
      "2.42 µs ± 72 ns per loop (mean ± std. dev. of 7 runs, 100000 loops each)\n"
     ]
    }
   ],
   "source": [
    "# Test 1 - Single function call\n",
    "y0 = y[:, 0]\n",
    "%timeit dy = lorenz(y0, sigma, beta, rho)"
   ]
  },
  {
   "cell_type": "code",
   "execution_count": 24,
   "metadata": {},
   "outputs": [
    {
     "name": "stdout",
     "output_type": "stream",
     "text": [
      "37.4 ms ± 465 µs per loop (mean ± std. dev. of 7 runs, 10 loops each)\n"
     ]
    }
   ],
   "source": [
    "# Test 2 - Single function calls with for loop\n",
    "%timeit dy = make_function_calls(lorenz, y, n, sigma=sigma, beta=beta, rho=rho)"
   ]
  },
  {
   "cell_type": "code",
   "execution_count": 25,
   "metadata": {},
   "outputs": [
    {
     "name": "stdout",
     "output_type": "stream",
     "text": [
      "58.2 µs ± 381 ns per loop (mean ± std. dev. of 7 runs, 10000 loops each)\n"
     ]
    }
   ],
   "source": [
    "# Test 3- Vectorized function calls\n",
    "%timeit dy = lorenz(y, sigma, beta, rho)"
   ]
  },
  {
   "cell_type": "code",
   "execution_count": null,
   "metadata": {},
   "outputs": [],
   "source": []
  },
  {
   "cell_type": "markdown",
   "metadata": {},
   "source": [
    "## Recursive Calculation using a Generator"
   ]
  },
  {
   "cell_type": "code",
   "execution_count": 26,
   "metadata": {},
   "outputs": [],
   "source": [
    "def lorenz_generator_discrete(y0, stepsize, sigma, beta, rho):\n",
    "    y = np.array(y0)\n",
    "    dy = np.empty(3)\n",
    "    while True:\n",
    "        dy[:] = lorenz(y, sigma, beta, rho)\n",
    "        y = y + stepsize * dy\n",
    "        yield y\n",
    "\n",
    "def lorenz_generator_tuples(y0, stepsize, sigma, beta, rho):\n",
    "    y = np.array(y0)\n",
    "    dy = np.empty(3)\n",
    "    while True:\n",
    "        dy[:] = lorenz(y, sigma, beta, rho)\n",
    "        y = y + stepsize * dy\n",
    "        yield y[0], y[1], y[2]\n",
    "\n",
    "\n",
    "\n",
    "# Lorenz system parameters\n",
    "beta = 8 / 3\n",
    "sigma = 10\n",
    "rho = 28\n",
    "y0 = (-8, 8, 27)\n",
    "stepsize = 0.0001\n",
    "gen = lorenz_generator_discrete(y0, stepsize, sigma, beta, rho)"
   ]
  },
  {
   "cell_type": "code",
   "execution_count": 27,
   "metadata": {},
   "outputs": [],
   "source": [
    "y_data = np.zeros((100, 3))\n",
    "for i in range(y_data.shape[0]):\n",
    "    y_data[i] = next(gen)"
   ]
  },
  {
   "cell_type": "code",
   "execution_count": 28,
   "metadata": {},
   "outputs": [
    {
     "data": {
      "text/plain": [
       "(-7.984, 7.9984, 26.9864)"
      ]
     },
     "execution_count": 28,
     "metadata": {},
     "output_type": "execute_result"
    }
   ],
   "source": [
    "gen = lorenz_generator_tuples(y0, stepsize, sigma, beta, rho)\n",
    "next(gen)"
   ]
  },
  {
   "cell_type": "code",
   "execution_count": 29,
   "metadata": {},
   "outputs": [],
   "source": [
    "# Unfortunately, np.fromiter only works for 1D arrays\n",
    "#np.fromiter(gen, float, count=10)"
   ]
  },
  {
   "cell_type": "code",
   "execution_count": null,
   "metadata": {},
   "outputs": [],
   "source": []
  },
  {
   "cell_type": "code",
   "execution_count": null,
   "metadata": {},
   "outputs": [],
   "source": []
  },
  {
   "cell_type": "code",
   "execution_count": null,
   "metadata": {},
   "outputs": [],
   "source": []
  },
  {
   "cell_type": "code",
   "execution_count": null,
   "metadata": {},
   "outputs": [],
   "source": []
  }
 ],
 "metadata": {
  "kernelspec": {
   "display_name": "Python [conda env:torch]",
   "language": "python",
   "name": "conda-env-torch-py"
  },
  "language_info": {
   "codemirror_mode": {
    "name": "ipython",
    "version": 3
   },
   "file_extension": ".py",
   "mimetype": "text/x-python",
   "name": "python",
   "nbconvert_exporter": "python",
   "pygments_lexer": "ipython3",
   "version": "3.6.10"
  }
 },
 "nbformat": 4,
 "nbformat_minor": 4
}
