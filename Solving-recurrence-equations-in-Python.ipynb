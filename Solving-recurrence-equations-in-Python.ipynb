{
 "cells": [
  {
   "cell_type": "markdown",
   "metadata": {},
   "source": [
    "# Methods of Efficiently Solving Recurrence Equations in Python"
   ]
  },
  {
   "cell_type": "code",
   "execution_count": 1,
   "metadata": {},
   "outputs": [
    {
     "data": {
      "text/plain": [
       "'3.7.3'"
      ]
     },
     "execution_count": 1,
     "metadata": {},
     "output_type": "execute_result"
    }
   ],
   "source": [
    "from itertools import accumulate, chain\n",
    "import numpy as np\n",
    "\n",
    "from platform import python_version\n",
    "python_version()"
   ]
  },
  {
   "cell_type": "markdown",
   "metadata": {},
   "source": [
    "The following problem is based on this stackoverflow question:\n",
    "- https://stackoverflow.com/q/4407984/1609514\n",
    "\n",
    "(with arbitrary data created by me)"
   ]
  },
  {
   "cell_type": "code",
   "execution_count": 2,
   "metadata": {},
   "outputs": [],
   "source": [
    "def t_next(t, data):\n",
    "    Tm, tau = data  # Unpack more than one data input\n",
    "    return Tm + (t - Tm)**tau\n",
    "\n",
    "assert t_next(2, (0.38, 0)) == 1.38\n",
    "\n",
    "t0 = 2  # Initial t\n",
    "Tm_values = np.array([0.38, 0.88, 0.56, 0.67, 0.45, 0.98, 0.58, 0.72, 0.92, 0.82])\n",
    "tau_values = np.linspace(0, 0.9, 10)"
   ]
  },
  {
   "cell_type": "markdown",
   "metadata": {},
   "source": [
    "## 1. Basic for loop in Python"
   ]
  },
  {
   "cell_type": "code",
   "execution_count": 3,
   "metadata": {},
   "outputs": [
    {
     "data": {
      "text/plain": [
       "array([2.        , 1.38      , 1.81303299, 1.60614649, 1.65039964,\n",
       "       1.52579703, 1.71878078, 1.66109554, 1.67839293, 1.72152195,\n",
       "       1.73091672])"
      ]
     },
     "execution_count": 3,
     "metadata": {},
     "output_type": "execute_result"
    }
   ],
   "source": [
    "t = t0\n",
    "t_out = [t0]\n",
    "for Tm, tau in zip(Tm_values, tau_values):\n",
    "    t = t_next(t, (Tm, tau))\n",
    "    t_out.append(t)\n",
    "t_out = np.array(t_out)\n",
    "t_out"
   ]
  },
  {
   "cell_type": "markdown",
   "metadata": {},
   "source": [
    "## 2. Using Python's built-in accumulate function"
   ]
  },
  {
   "cell_type": "code",
   "execution_count": 4,
   "metadata": {},
   "outputs": [],
   "source": [
    "# Prepare input data in a 2D array\n",
    "data_sequence = np.vstack([Tm_values, tau_values]).T"
   ]
  },
  {
   "cell_type": "code",
   "execution_count": 5,
   "metadata": {},
   "outputs": [
    {
     "name": "stdout",
     "output_type": "stream",
     "text": [
      "[2.         1.38       1.81303299 1.60614649 1.65039964 1.52579703\n",
      " 1.71878078 1.66109554 1.67839293 1.72152195 1.73091672]\n"
     ]
    }
   ],
   "source": [
    "t_out = np.fromiter(accumulate(chain([t0], data_sequence), t_next), dtype=float)\n",
    "print(t_out)\n",
    "\n",
    "# Slightly more readable version possible in Python 3.8+\n",
    "if python_version()[:3] > '3.8':\n",
    "    t_out = np.fromiter(accumulate(data_sequence, t_next, initial=t0), dtype=float)\n",
    "    print(t_out)"
   ]
  },
  {
   "cell_type": "code",
   "execution_count": 6,
   "metadata": {},
   "outputs": [],
   "source": [
    "def t_next(t, Tm, tau):\n",
    "    return Tm + (t - Tm)**tau\n",
    "\n",
    "assert t_next(2, 0.38, 0) == 1.38\n",
    "assert t_next(1.38, 0.88, 0.1) == 1.8130329915368075\n",
    "\n",
    "t_next_ufunc = np.frompyfunc(t_next, 3, 1)\n",
    "\n",
    "assert t_next_ufunc(2, 0.38, 0) == 1.38\n",
    "assert t_next_ufunc(1.38, 0.88, 0.1) == 1.8130329915368075\n",
    "assert np.all(t_next_ufunc([2, 1.38], [0.38, 0.88], [0, 0.1]) == [1.38, 1.8130329915368075])"
   ]
  },
  {
   "cell_type": "markdown",
   "metadata": {},
   "source": [
    "## 3. Using Numpy accumulate method and ufuncs"
   ]
  },
  {
   "cell_type": "code",
   "execution_count": 7,
   "metadata": {},
   "outputs": [],
   "source": [
    "def test_add(x, data):\n",
    "    return x + data\n",
    "\n",
    "assert test_add(1, 2) == 3\n",
    "assert test_add(2, 3) == 5\n",
    "\n",
    "# Make a Numpy ufunc from my test_add function\n",
    "test_add_ufunc = np.frompyfunc(test_add, 2, 1)\n",
    "\n",
    "assert test_add_ufunc(1, 2) == 3\n",
    "assert test_add_ufunc(2, 3) == 5\n",
    "assert np.all(test_add_ufunc([1, 2], [2, 3]) == [3, 5])\n",
    "\n",
    "data_sequence = np.array([1, 2, 3, 4])\n",
    "f_out = test_add_ufunc.accumulate(data_sequence, dtype=object)\n",
    "assert np.array_equal(f_out, [1, 3, 6, 10])"
   ]
  },
  {
   "cell_type": "markdown",
   "metadata": {},
   "source": [
    "However, I have not found a way to make this work for a function with more than two inputs..."
   ]
  },
  {
   "cell_type": "code",
   "execution_count": 23,
   "metadata": {},
   "outputs": [
    {
     "name": "stdout",
     "output_type": "stream",
     "text": [
      "accumulate only supported for binary functions\n"
     ]
    }
   ],
   "source": [
    "def add_with_power(x, data1, data2):\n",
    "    return (x + data1) ** data2\n",
    "\n",
    "assert add_with_power(1, 2, 1) == 3\n",
    "assert add_with_power(3, 3, 2) == 36\n",
    "\n",
    "# Make a Numpy ufunc from my test_add function\n",
    "add_with_power_ufunc = np.frompyfunc(add_with_power, 3, 1)\n",
    "\n",
    "assert add_with_power_ufunc(1, 2, 1) == 3\n",
    "assert add_with_power_ufunc(3, 3, 2) == 36\n",
    "assert np.all(add_with_power_ufunc([1, 3], [2, 3], [1, 2]) == [3, 36])\n",
    "\n",
    "data_sequence = np.array([1, 2, 3, 4])\n",
    "try:\n",
    "    f_out = add_with_power_ufunc.accumulate(data_sequence, dtype=object)\n",
    "except ValueError as err:\n",
    "    print(err)"
   ]
  },
  {
   "cell_type": "code",
   "execution_count": 11,
   "metadata": {},
   "outputs": [
    {
     "ename": "TypeError",
     "evalue": "cannot unpack non-iterable int object",
     "output_type": "error",
     "traceback": [
      "\u001b[0;31m---------------------------------------------------------------------------\u001b[0m",
      "\u001b[0;31mTypeError\u001b[0m                                 Traceback (most recent call last)",
      "\u001b[0;32m<ipython-input-11-9a3daca9bc05>\u001b[0m in \u001b[0;36m<module>\u001b[0;34m\u001b[0m\n\u001b[1;32m     11\u001b[0m \u001b[0madd_with_power_ufunc\u001b[0m \u001b[0;34m=\u001b[0m \u001b[0mnp\u001b[0m\u001b[0;34m.\u001b[0m\u001b[0mfrompyfunc\u001b[0m\u001b[0;34m(\u001b[0m\u001b[0madd_with_power\u001b[0m\u001b[0;34m,\u001b[0m \u001b[0;36m2\u001b[0m\u001b[0;34m,\u001b[0m \u001b[0;36m1\u001b[0m\u001b[0;34m)\u001b[0m\u001b[0;34m\u001b[0m\u001b[0;34m\u001b[0m\u001b[0m\n\u001b[1;32m     12\u001b[0m \u001b[0;34m\u001b[0m\u001b[0m\n\u001b[0;32m---> 13\u001b[0;31m \u001b[0;32massert\u001b[0m \u001b[0madd_with_power_ufunc\u001b[0m\u001b[0;34m(\u001b[0m\u001b[0;36m1\u001b[0m\u001b[0;34m,\u001b[0m \u001b[0;34m(\u001b[0m\u001b[0;36m2\u001b[0m\u001b[0;34m,\u001b[0m \u001b[0;36m1\u001b[0m\u001b[0;34m)\u001b[0m\u001b[0;34m)\u001b[0m \u001b[0;34m==\u001b[0m \u001b[0;36m3\u001b[0m\u001b[0;34m\u001b[0m\u001b[0;34m\u001b[0m\u001b[0m\n\u001b[0m\u001b[1;32m     14\u001b[0m \u001b[0;32massert\u001b[0m \u001b[0madd_with_power_ufunc\u001b[0m\u001b[0;34m(\u001b[0m\u001b[0;36m3\u001b[0m\u001b[0;34m,\u001b[0m \u001b[0;34m(\u001b[0m\u001b[0;36m3\u001b[0m\u001b[0;34m,\u001b[0m \u001b[0;36m2\u001b[0m\u001b[0;34m)\u001b[0m\u001b[0;34m)\u001b[0m \u001b[0;34m==\u001b[0m \u001b[0;36m36\u001b[0m\u001b[0;34m\u001b[0m\u001b[0;34m\u001b[0m\u001b[0m\n\u001b[1;32m     15\u001b[0m \u001b[0;32massert\u001b[0m \u001b[0mnp\u001b[0m\u001b[0;34m.\u001b[0m\u001b[0mall\u001b[0m\u001b[0;34m(\u001b[0m\u001b[0madd_with_power_ufunc\u001b[0m\u001b[0;34m(\u001b[0m\u001b[0;34m[\u001b[0m\u001b[0;36m1\u001b[0m\u001b[0;34m,\u001b[0m \u001b[0;36m3\u001b[0m\u001b[0;34m]\u001b[0m\u001b[0;34m,\u001b[0m \u001b[0;34m[\u001b[0m\u001b[0;36m2\u001b[0m\u001b[0;34m,\u001b[0m \u001b[0;36m3\u001b[0m\u001b[0;34m]\u001b[0m\u001b[0;34m,\u001b[0m \u001b[0;34m[\u001b[0m\u001b[0;36m1\u001b[0m\u001b[0;34m,\u001b[0m \u001b[0;36m2\u001b[0m\u001b[0;34m]\u001b[0m\u001b[0;34m)\u001b[0m \u001b[0;34m==\u001b[0m \u001b[0;34m[\u001b[0m\u001b[0;36m3\u001b[0m\u001b[0;34m,\u001b[0m \u001b[0;36m36\u001b[0m\u001b[0;34m]\u001b[0m\u001b[0;34m)\u001b[0m\u001b[0;34m\u001b[0m\u001b[0;34m\u001b[0m\u001b[0m\n",
      "\u001b[0;32m<ipython-input-11-9a3daca9bc05>\u001b[0m in \u001b[0;36madd_with_power\u001b[0;34m(x, data)\u001b[0m\n\u001b[1;32m      2\u001b[0m \u001b[0;34m\u001b[0m\u001b[0m\n\u001b[1;32m      3\u001b[0m \u001b[0;32mdef\u001b[0m \u001b[0madd_with_power\u001b[0m\u001b[0;34m(\u001b[0m\u001b[0mx\u001b[0m\u001b[0;34m,\u001b[0m \u001b[0mdata\u001b[0m\u001b[0;34m)\u001b[0m\u001b[0;34m:\u001b[0m\u001b[0;34m\u001b[0m\u001b[0;34m\u001b[0m\u001b[0m\n\u001b[0;32m----> 4\u001b[0;31m     \u001b[0ma\u001b[0m\u001b[0;34m,\u001b[0m \u001b[0mb\u001b[0m \u001b[0;34m=\u001b[0m \u001b[0mdata\u001b[0m\u001b[0;34m\u001b[0m\u001b[0;34m\u001b[0m\u001b[0m\n\u001b[0m\u001b[1;32m      5\u001b[0m     \u001b[0;32mreturn\u001b[0m \u001b[0;34m(\u001b[0m\u001b[0mx\u001b[0m \u001b[0;34m+\u001b[0m \u001b[0ma\u001b[0m\u001b[0;34m)\u001b[0m \u001b[0;34m**\u001b[0m \u001b[0mb\u001b[0m\u001b[0;34m\u001b[0m\u001b[0;34m\u001b[0m\u001b[0m\n\u001b[1;32m      6\u001b[0m \u001b[0;34m\u001b[0m\u001b[0m\n",
      "\u001b[0;31mTypeError\u001b[0m: cannot unpack non-iterable int object"
     ]
    }
   ],
   "source": [
    "# Can we trick it by passing more parameters as a tuple?\n",
    "\n",
    "def add_with_power(x, data):\n",
    "    return (x + data[0]) ** data[1]\n",
    "\n",
    "assert add_with_power(1, (2, 1)) == 3\n",
    "assert add_with_power(3, (3, 2)) == 36\n",
    "\n",
    "# Make a Numpy ufunc from my test_add function\n",
    "add_with_power_ufunc = np.frompyfunc(add_with_power, 2, 1)\n",
    "\n",
    "assert add_with_power_ufunc(1, (2, 1)) == 3\n",
    "assert add_with_power_ufunc(3, (3, 2)) == 36\n",
    "assert np.all(add_with_power_ufunc([1, 3], [2, 3], [1, 2]) == [3, 36])\n",
    "\n",
    "data_sequence = np.array([(2, 1), (3, 2), (4, 3), (5, 4)])\n",
    "try:\n",
    "    f_out = add_with_power_ufunc.accumulate(data_sequence, dtype=object)\n",
    "except ValueError as err:\n",
    "    print(err)"
   ]
  },
  {
   "cell_type": "code",
   "execution_count": 27,
   "metadata": {},
   "outputs": [
    {
     "data": {
      "text/plain": [
       "array([[1, 1, 1],\n",
       "       [3, 3, 3],\n",
       "       [6, 6, 6]])"
      ]
     },
     "execution_count": 27,
     "metadata": {},
     "output_type": "execute_result"
    }
   ],
   "source": [
    "two_dim = np.array([\n",
    "    [1,1,1],\n",
    "    [2,2,2],\n",
    "    [3,3,3]\n",
    "])\n",
    "np.add.accumulate(two_dim)"
   ]
  },
  {
   "cell_type": "code",
   "execution_count": 24,
   "metadata": {},
   "outputs": [
    {
     "ename": "ValueError",
     "evalue": "could not find a matching type for ? (vectorized).accumulate, requested type has type code 'l'",
     "output_type": "error",
     "traceback": [
      "\u001b[0;31m---------------------------------------------------------------------------\u001b[0m",
      "\u001b[0;31mValueError\u001b[0m                                Traceback (most recent call last)",
      "\u001b[0;32m<ipython-input-24-e1c87a66ff1f>\u001b[0m in \u001b[0;36m<module>\u001b[0;34m\u001b[0m\n\u001b[0;32m----> 1\u001b[0;31m \u001b[0mtest_add_ufunc\u001b[0m\u001b[0;34m.\u001b[0m\u001b[0maccumulate\u001b[0m\u001b[0;34m(\u001b[0m\u001b[0mtwo_dim\u001b[0m\u001b[0;34m)\u001b[0m\u001b[0;34m\u001b[0m\u001b[0;34m\u001b[0m\u001b[0m\n\u001b[0m",
      "\u001b[0;31mValueError\u001b[0m: could not find a matching type for ? (vectorized).accumulate, requested type has type code 'l'"
     ]
    }
   ],
   "source": [
    "test_add_ufunc.accumulate(two_dim)"
   ]
  },
  {
   "cell_type": "code",
   "execution_count": null,
   "metadata": {},
   "outputs": [],
   "source": []
  },
  {
   "cell_type": "code",
   "execution_count": null,
   "metadata": {},
   "outputs": [],
   "source": []
  },
  {
   "cell_type": "code",
   "execution_count": null,
   "metadata": {},
   "outputs": [],
   "source": []
  },
  {
   "cell_type": "code",
   "execution_count": null,
   "metadata": {},
   "outputs": [],
   "source": []
  }
 ],
 "metadata": {
  "kernelspec": {
   "display_name": "py38",
   "language": "python",
   "name": "py38"
  },
  "language_info": {
   "codemirror_mode": {
    "name": "ipython",
    "version": 3
   },
   "file_extension": ".py",
   "mimetype": "text/x-python",
   "name": "python",
   "nbconvert_exporter": "python",
   "pygments_lexer": "ipython3",
   "version": "3.7.3"
  }
 },
 "nbformat": 4,
 "nbformat_minor": 2
}
